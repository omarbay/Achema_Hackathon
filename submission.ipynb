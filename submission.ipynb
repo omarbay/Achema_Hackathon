{
 "cells": [
  {
   "cell_type": "markdown",
   "id": "a8e8849c",
   "metadata": {},
   "source": [
    "## Load packages"
   ]
  },
  {
   "cell_type": "code",
   "execution_count": 1,
   "id": "7be38660",
   "metadata": {},
   "outputs": [],
   "source": [
    "# Import required packages\n",
    "import random\n",
    "import numpy as np\n",
    "import pandas as pd\n",
    "import matplotlib.pyplot as plt\n",
    "import os\n",
    "import cv2\n",
    "import time\n",
    "import sys\n",
    "import json\n",
    "from sklearn.metrics import roc_curve, roc_auc_score, confusion_matrix, accuracy_score\n",
    "from PIL import Image"
   ]
  },
  {
   "cell_type": "code",
   "execution_count": 2,
   "id": "e6f01be5",
   "metadata": {},
   "outputs": [],
   "source": [
    "# Use the following command to install additional packages\n",
    "# !{sys.executable} -m pip install PACKAGENAME"
   ]
  },
  {
   "cell_type": "code",
   "execution_count": 3,
   "id": "bc8cad50",
   "metadata": {},
   "outputs": [],
   "source": [
    "# Load additionaly installed packages\n",
    "# import PACKAGENAME\n",
    "from tensorflow import keras\n",
    "from tensorflow.keras import layers\n",
    "import tensorflow as tf\n",
    "from tensorflow.keras.preprocessing.image import ImageDataGenerator"
   ]
  },
  {
   "cell_type": "markdown",
   "id": "0b1af590",
   "metadata": {},
   "source": [
    "## Load data"
   ]
  },
  {
   "cell_type": "code",
   "execution_count": 4,
   "id": "7ef1048a",
   "metadata": {},
   "outputs": [],
   "source": [
    "# Create file path to the data\n",
    "val_dir = './data/ValidationData'\n",
    "\n",
    "# Create lists containing all image paths\n",
    "val_normal = [os.path.join(val_dir, 'good/{}').format(i) for i in os.listdir(os.path.join(val_dir, 'good'))]\n",
    "val_fluten = [os.path.join(val_dir, 'bad/{}').format(i) for i in os.listdir(os.path.join(val_dir, 'bad'))]\n",
    "val_images = val_normal + val_fluten\n",
    "np.random.shuffle(val_images)"
   ]
  },
  {
   "cell_type": "code",
   "execution_count": 5,
   "id": "96f55c91",
   "metadata": {},
   "outputs": [],
   "source": [
    "# Warning: Due to the limited memory size, not all images can be loaded at once.\n",
    "# We select only 100 images\n",
    "val_images = val_images[0:100]\n",
    "\n",
    "# Add your preprocessing steps here\n",
    "##### MODIFY ACCORDING TO THE MODEL ######\n",
    "# As shown in the attached .py and the report\n",
    "# we opted to used the keras-tuner tool for finding\n",
    "# the best parameters.\n",
    "# We also preferred to work with smaller images\n",
    "# to reduce the number of parameters of the CNN model\n",
    "# The main goal is to find an optimal point\n",
    "# between accuraccy and inference time\n",
    "# The parameters will be better understood on the \n",
    "# following lines of code\n",
    "vertical_trim = 50\n",
    "horizonta_trim = 80\n",
    "img_width = 60\n",
    "img_height = img_width * 2"
   ]
  },
  {
   "cell_type": "code",
   "execution_count": 6,
   "id": "dce511f7",
   "metadata": {
    "tags": []
   },
   "outputs": [],
   "source": [
    "# Create empty list which will hold the images\n",
    "### We opted for storing the image in a  numpy array, since it is\n",
    "### easier to handle the data and memory effective\n",
    "X = np.zeros((len(val_images), img_height, img_width, 1), dtype=float)\n",
    "\n",
    "# Create empty list which will hold the labels\n",
    "y_true = []\n",
    "\n",
    "# Loop over all image paths to read each image and their corresponding true label\n",
    "for i, image in enumerate(val_images):\n",
    "    # Ignore .ipynb-checkpoint files\n",
    "    if 'ipynb' in image:\n",
    "        continue\n",
    "    ##### !!!!!!   VERY IMPORTANT !!!!!!! #####\n",
    "    #### since we are using cv2 functions #####\n",
    "    #### it is necessary to resize, trim  #####\n",
    "    #### and apply the inversion function #####\n",
    "\n",
    "    # Read the image\n",
    "    # We are using grayscale images, single-channel,\n",
    "    # Therefore we are loading witht the \"0\" flag\n",
    "    img = cv2.imread(image,0)\n",
    "\n",
    "    # Vertical and Horizontal trim from the original dataset\n",
    "    # While the training the CNN, we noticed that the camera\n",
    "    # positioning affected the acc. results. Hence, we decide\n",
    "    # to remove the background from the original images\n",
    "    img_trim = img[vertical_trim:-vertical_trim,horizonta_trim:-horizonta_trim]\n",
    "\n",
    "    # As we reduce the size of the images, we noted that\n",
    "    # some Fluten example with large bubbles were missclas-\n",
    "    # sifed. Analyzing the results, we observed that when\n",
    "    # the images were rescaled, the small gas-liquid inter-\n",
    "    # faces (pixel values between 0 and 20) lost their reso-\n",
    "    # lution. When the image went to a max-pooling layer,\n",
    "    # this information completely was lost. Thus, in order to\n",
    "    # keep this information, we inverted the image\n",
    "    # (cv2.bitwise_not function). Then, this information would\n",
    "    # not be lost in the max-pooling layer\n",
    "    img_bit = cv2.bitwise_not(img_trim)\n",
    "\n",
    "    # Image dimensions used wilhe training the CNNs\n",
    "    # In order to reduced the number of parameter on the\n",
    "    # CNN, the image must be reduced. The idea is to find\n",
    "    # an optimal point between acc and inference time\n",
    "    img_resized = cv2.resize(img_bit, (img_width, img_height))\n",
    "    img_resized = img_resized.astype(float)\n",
    "\n",
    "    # Uncomment if debugging is necessary. It is interisting\n",
    "    # to check the reduced images with the inversion filter\n",
    "    # cv2.imshow(\"debug\", img_resized); cv2.waitKey(0) ### uncomment for debug\n",
    "    # print(i)\n",
    "\n",
    "    X[i,:,:,0] = img_resized\n",
    "\n",
    "    # X.append(img_resized)\n",
    "\n",
    "    # Load the true label\n",
    "    if 'fluten' in image:\n",
    "        y_true.append(1.0)\n",
    "    elif 'normal' in image:\n",
    "        y_true.append(0.0)"
   ]
  },
  {
   "cell_type": "markdown",
   "id": "66ae2813",
   "metadata": {},
   "source": [
    "## Preprocessing"
   ]
  },
  {
   "cell_type": "code",
   "execution_count": null,
   "id": "36e07d9b",
   "metadata": {},
   "outputs": [],
   "source": []
  },
  {
   "cell_type": "markdown",
   "id": "971c14e5",
   "metadata": {},
   "source": [
    "## Load model"
   ]
  },
  {
   "cell_type": "code",
   "execution_count": 7,
   "id": "e49169a0",
   "metadata": {},
   "outputs": [],
   "source": [
    "# Load your trained model here\n",
    "#model = keras.models.load_model('best_model_40_80_True_02.h5', compile = True)\n",
    "model = keras.models.load_model('best_model_60_120_True_00.h5', compile = True)"
   ]
  },
  {
   "cell_type": "markdown",
   "id": "fd6fdc8b",
   "metadata": {},
   "source": [
    "## Predicitions"
   ]
  },
  {
   "cell_type": "code",
   "execution_count": 8,
   "id": "d2747c73",
   "metadata": {},
   "outputs": [
    {
     "name": "stdout",
     "output_type": "stream",
     "text": [
      "--- 0.407 seconds ---\n"
     ]
    }
   ],
   "source": [
    "# Start the timer to measure the computation time needed for inference (please do not modify the following line)\n",
    "start_time = time.time()\n",
    "\n",
    "# Use your loaded model to make a prediction of the label of each image\n",
    "y_pred_probs = model.predict(X)\n",
    "\n",
    "# End timer (please do not modify the following line)\n",
    "comp_time = round((time.time() - start_time),3)\n",
    "print(\"--- %s seconds ---\" % comp_time)\n",
    "\n",
    "# Transform probabilities to labels\n",
    "y_pred = np.where(y_pred_probs>= 0.5,1,0)\n",
    "y_pred = np.reshape(y_pred, -1)\n",
    "\n",
    "# Transform the numpy image array back to a 1D list\n",
    "X_temp = []\n",
    "for i, image in enumerate(val_images):\n",
    "    X_temp.append(X[i,:,:,0])\n",
    "X = X_temp"
   ]
  },
  {
   "cell_type": "markdown",
   "id": "f5d7e5ad",
   "metadata": {},
   "source": [
    "## Evaluation"
   ]
  },
  {
   "cell_type": "markdown",
   "id": "4f31d95b",
   "metadata": {},
   "source": [
    "### The following lines should not be modified"
   ]
  },
  {
   "cell_type": "code",
   "execution_count": 9,
   "id": "182e4e0d",
   "metadata": {},
   "outputs": [
    {
     "name": "stdout",
     "output_type": "stream",
     "text": [
      "              Pred: Fluten  Pred: Normal\n",
      "True: Fluten            52             0\n",
      "True: Normal             0            48\n"
     ]
    }
   ],
   "source": [
    "# Compute the confusion matrix\n",
    "cfmtx = pd.DataFrame(\n",
    "    confusion_matrix(y_true, y_pred), \n",
    "    index=['True: Fluten', 'True: Normal'], \n",
    "    columns=['Pred: Fluten', 'Pred: Normal']\n",
    ")\n",
    "print(cfmtx)"
   ]
  },
  {
   "cell_type": "code",
   "execution_count": 10,
   "id": "b0a8ba5c",
   "metadata": {},
   "outputs": [
    {
     "name": "stdout",
     "output_type": "stream",
     "text": [
      "Error rate= 0.000\n"
     ]
    }
   ],
   "source": [
    "# Compute the error rate\n",
    "accuracy = accuracy_score(y_true, y_pred)\n",
    "print('Error rate= %.3f' % (1-accuracy))"
   ]
  },
  {
   "cell_type": "code",
   "execution_count": 11,
   "id": "09effc1b",
   "metadata": {},
   "outputs": [
    {
     "name": "stdout",
     "output_type": "stream",
     "text": [
      "ROC AUC = 1.000\n"
     ]
    }
   ],
   "source": [
    "# Compute the ROC AUC\n",
    "roc_auc = roc_auc_score(y_true, y_pred_probs)\n",
    "print('ROC AUC = %.3f' % (roc_auc))"
   ]
  },
  {
   "cell_type": "code",
   "execution_count": 12,
   "id": "04769913",
   "metadata": {},
   "outputs": [
    {
     "data": {
      "image/png": "[encoded data removed]",
      "text/plain": [
       "<Figure size 432x288 with 1 Axes>"
      ]
     },
     "metadata": {
      "needs_background": "light"
     },
     "output_type": "display_data"
    }
   ],
   "source": [
    "# Calculate ROC curve\n",
    "lr_fpr, lr_tpr, _ = roc_curve(y_true, y_pred_probs)\n",
    "# Plot the ROC curve for the model\n",
    "plt.plot(lr_fpr, lr_tpr, marker='.')\n",
    "# Axis labels\n",
    "plt.xlabel('False Positive Rate')\n",
    "plt.ylabel('True Positive Rate')\n",
    "# Show the plot\n",
    "plt.show()"
   ]
  },
  {
   "cell_type": "markdown",
   "id": "63a73426",
   "metadata": {},
   "source": [
    "## Save results"
   ]
  },
  {
   "cell_type": "code",
   "execution_count": 13,
   "id": "76ffe9cd",
   "metadata": {},
   "outputs": [],
   "source": [
    "results = pd.DataFrame({'Image':val_images,'Label':y_pred})"
   ]
  },
  {
   "cell_type": "code",
   "execution_count": 14,
   "id": "fd8d841e",
   "metadata": {},
   "outputs": [],
   "source": [
    "res_dict = {}\n",
    "res_dict['ER'] = 1-round(accuracy,3)\n",
    "res_dict['ROC'] = roc_auc\n",
    "res_dict['FP'] = int(cfmtx['Pred: Fluten'].iloc[1])\n",
    "res_dict['FN'] = int(cfmtx['Pred: Normal'].iloc[0])\n",
    "res_dict['TIME'] = int(comp_time)\n",
    "\n",
    "with open('results_metrics.json', 'w') as fp:\n",
    "    json.dump(res_dict, fp)"
   ]
  },
  {
   "cell_type": "code",
   "execution_count": null,
   "id": "70356ad4",
   "metadata": {},
   "outputs": [],
   "source": []
  }
 ],
 "metadata": {
  "kernelspec": {
   "display_name": "Python 3",
   "language": "python",
   "name": "python3"
  },
  "language_info": {
   "codemirror_mode": {
    "name": "ipython",
    "version": 3
   },
   "file_extension": ".py",
   "mimetype": "text/x-python",
   "name": "python",
   "nbconvert_exporter": "python",
   "pygments_lexer": "ipython3",
   "version": "3.7.3"
  }
 },
 "nbformat": 4,
 "nbformat_minor": 5
}
